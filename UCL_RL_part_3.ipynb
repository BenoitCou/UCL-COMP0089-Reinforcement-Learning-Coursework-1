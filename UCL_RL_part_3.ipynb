{
 "cells": [
  {
   "cell_type": "markdown",
   "metadata": {
    "id": "pYs6LMEbNqoQ"
   },
   "source": [
    "# RL coursework, part III (25 pts total)\n",
    "---\n",
    "\n",
    "**Name:** Benoît Coutière\n",
    "\n",
    "**SN:**\n",
    "\n",
    "---\n",
    "\n",
    "**Due date:** *April 10th, 2025*\n",
    "\n",
    "---\n",
    "\n",
    "Standard UCL policy (including grade deductions) automatically applies for any late submissions.\n",
    "\n",
    "## How to submit\n",
    "\n",
    "When you have completed the exercises and everything has finished running, click on 'File' in the menu-bar and then 'Download .ipynb'. This file must be submitted to Moodle named as **`<studentnumber>_RL_part3.ipynb`** before the deadline above, where `<studentnumber>` is your student number.\n",
    "\n",
    "----\n",
    "**Reminder of copyrights**\n",
    "\n",
    "Copyrights protect this code/content and distribution or usages of it (or parts of it) without permission is prohibited. This includes uploading it and usage of it in training in any LLMs systems."
   ]
  },
  {
   "cell_type": "markdown",
   "metadata": {
    "id": "rNuohp44N00i"
   },
   "source": [
    "# The Assignment\n",
    "\n",
    "### Objectives\n",
    "\n",
    "You will be guided through the implementation of a full deep reinforcement learning agent."
   ]
  },
  {
   "cell_type": "markdown",
   "metadata": {
    "id": "nVBcO5mAV9Ow"
   },
   "source": [
    "## Setup\n",
    "\n",
    "Run all the cells in this section, but do not modify them."
   ]
  },
  {
   "cell_type": "markdown",
   "metadata": {
    "id": "Z1p0fpbxQLyn"
   },
   "source": [
    "## Imports"
   ]
  },
  {
   "cell_type": "code",
   "execution_count": 1,
   "metadata": {
    "id": "Ps5OnkPmDbMX"
   },
   "outputs": [],
   "source": [
    "import matplotlib.pyplot as plt\n",
    "import numpy as np\n",
    "\n",
    "np.set_printoptions(precision=3, suppress=1)"
   ]
  },
  {
   "cell_type": "markdown",
   "metadata": {
    "id": "3lpweIqAWBX3"
   },
   "source": [
    "## Helpers"
   ]
  },
  {
   "cell_type": "markdown",
   "metadata": {
    "id": "iIRC73HLq6VH"
   },
   "source": [
    "# A) Actor-critics\n",
    "\n",
    "You are going to implement an Actor-critic agent that updates a policy parametrised as a deep neural network.\n",
    "\n",
    "The agent learns online from a single stream of experience, updating the parametes of its policy after each transition in the environment."
   ]
  },
  {
   "cell_type": "markdown",
   "metadata": {
    "id": "KV03Q3MpveUM"
   },
   "source": [
    "### Install packages"
   ]
  },
  {
   "cell_type": "code",
   "execution_count": 2,
   "metadata": {
    "colab": {
     "base_uri": "https://localhost:8080/"
    },
    "id": "wc-kqp3tveUT",
    "outputId": "785ad221-5524-47ba-971e-218de9bc8f65"
   },
   "outputs": [
    {
     "name": "stdout",
     "output_type": "stream",
     "text": [
      "Collecting jaxlib==0.4.33\n",
      "  Using cached jaxlib-0.4.33-cp311-cp311-win_amd64.whl.metadata (1.0 kB)\n",
      "Requirement already satisfied: scipy>=1.10 in c:\\users\\benoi\\anaconda3\\envs\\test6\\lib\\site-packages (from jaxlib==0.4.33) (1.15.3)\n",
      "Requirement already satisfied: numpy>=1.24 in c:\\users\\benoi\\anaconda3\\envs\\test6\\lib\\site-packages (from jaxlib==0.4.33) (1.26.4)\n",
      "Requirement already satisfied: ml-dtypes>=0.2.0 in c:\\users\\benoi\\anaconda3\\envs\\test6\\lib\\site-packages (from jaxlib==0.4.33) (0.5.1)\n",
      "Using cached jaxlib-0.4.33-cp311-cp311-win_amd64.whl (54.3 MB)\n",
      "Installing collected packages: jaxlib\n",
      "  Attempting uninstall: jaxlib\n",
      "    Found existing installation: jaxlib 0.6.2\n",
      "    Uninstalling jaxlib-0.6.2:\n",
      "      Successfully uninstalled jaxlib-0.6.2\n",
      "Successfully installed jaxlib-0.4.33\n"
     ]
    },
    {
     "name": "stderr",
     "output_type": "stream",
     "text": [
      "ERROR: pip's dependency resolver does not currently take into account all the packages that are installed. This behaviour is the source of the following dependency conflicts.\n",
      "jax 0.6.2 requires jaxlib<=0.6.2,>=0.6.2, but you have jaxlib 0.4.33 which is incompatible.\n",
      "fatal: destination path 'bsuite' already exists and is not an empty directory.\n"
     ]
    },
    {
     "name": "stdout",
     "output_type": "stream",
     "text": [
      "Processing c:\\users\\benoi\\desktop\\centralesupelec\\3a\\mission je\\ucl-comp0089-reinforcement-learning-coursework-1\\bsuite\n",
      "  Preparing metadata (setup.py): started\n",
      "  Preparing metadata (setup.py): finished with status 'done'\n",
      "Requirement already satisfied: absl-py in c:\\users\\benoi\\anaconda3\\envs\\test6\\lib\\site-packages (from bsuite==0.3.5) (2.3.1)\n",
      "Requirement already satisfied: dm_env in c:\\users\\benoi\\anaconda3\\envs\\test6\\lib\\site-packages (from bsuite==0.3.5) (1.6)\n",
      "Requirement already satisfied: immutabledict in c:\\users\\benoi\\anaconda3\\envs\\test6\\lib\\site-packages (from bsuite==0.3.5) (4.2.1)\n",
      "Requirement already satisfied: matplotlib in c:\\users\\benoi\\anaconda3\\envs\\test6\\lib\\site-packages (from bsuite==0.3.5) (3.6.3)\n",
      "Requirement already satisfied: numpy in c:\\users\\benoi\\anaconda3\\envs\\test6\\lib\\site-packages (from bsuite==0.3.5) (1.26.4)\n",
      "Requirement already satisfied: pandas in c:\\users\\benoi\\anaconda3\\envs\\test6\\lib\\site-packages (from bsuite==0.3.5) (2.3.0)\n",
      "Requirement already satisfied: plotnine in c:\\users\\benoi\\anaconda3\\envs\\test6\\lib\\site-packages (from bsuite==0.3.5) (0.13.4)\n",
      "Requirement already satisfied: scipy in c:\\users\\benoi\\anaconda3\\envs\\test6\\lib\\site-packages (from bsuite==0.3.5) (1.15.3)\n",
      "Requirement already satisfied: scikit-image in c:\\users\\benoi\\anaconda3\\envs\\test6\\lib\\site-packages (from bsuite==0.3.5) (0.25.2)\n",
      "Requirement already satisfied: six in c:\\users\\benoi\\anaconda3\\envs\\test6\\lib\\site-packages (from bsuite==0.3.5) (1.17.0)\n",
      "Requirement already satisfied: termcolor in c:\\users\\benoi\\anaconda3\\envs\\test6\\lib\\site-packages (from bsuite==0.3.5) (3.1.0)\n",
      "Requirement already satisfied: dm-tree in c:\\users\\benoi\\anaconda3\\envs\\test6\\lib\\site-packages (from dm_env->bsuite==0.3.5) (0.1.9)\n",
      "Requirement already satisfied: attrs>=18.2.0 in c:\\users\\benoi\\anaconda3\\envs\\test6\\lib\\site-packages (from dm-tree->dm_env->bsuite==0.3.5) (25.3.0)\n",
      "Requirement already satisfied: wrapt>=1.11.2 in c:\\users\\benoi\\anaconda3\\envs\\test6\\lib\\site-packages (from dm-tree->dm_env->bsuite==0.3.5) (1.17.2)\n",
      "Requirement already satisfied: contourpy>=1.0.1 in c:\\users\\benoi\\anaconda3\\envs\\test6\\lib\\site-packages (from matplotlib->bsuite==0.3.5) (1.3.2)\n",
      "Requirement already satisfied: cycler>=0.10 in c:\\users\\benoi\\anaconda3\\envs\\test6\\lib\\site-packages (from matplotlib->bsuite==0.3.5) (0.12.1)\n",
      "Requirement already satisfied: fonttools>=4.22.0 in c:\\users\\benoi\\anaconda3\\envs\\test6\\lib\\site-packages (from matplotlib->bsuite==0.3.5) (4.58.5)\n",
      "Requirement already satisfied: kiwisolver>=1.0.1 in c:\\users\\benoi\\anaconda3\\envs\\test6\\lib\\site-packages (from matplotlib->bsuite==0.3.5) (1.4.8)\n",
      "Requirement already satisfied: packaging>=20.0 in c:\\users\\benoi\\anaconda3\\envs\\test6\\lib\\site-packages (from matplotlib->bsuite==0.3.5) (25.0)\n",
      "Requirement already satisfied: pillow>=6.2.0 in c:\\users\\benoi\\anaconda3\\envs\\test6\\lib\\site-packages (from matplotlib->bsuite==0.3.5) (11.3.0)\n",
      "Requirement already satisfied: pyparsing>=2.2.1 in c:\\users\\benoi\\anaconda3\\envs\\test6\\lib\\site-packages (from matplotlib->bsuite==0.3.5) (3.2.3)\n",
      "Requirement already satisfied: python-dateutil>=2.7 in c:\\users\\benoi\\anaconda3\\envs\\test6\\lib\\site-packages (from matplotlib->bsuite==0.3.5) (2.9.0.post0)\n",
      "Requirement already satisfied: pytz>=2020.1 in c:\\users\\benoi\\anaconda3\\envs\\test6\\lib\\site-packages (from pandas->bsuite==0.3.5) (2025.2)\n",
      "Requirement already satisfied: tzdata>=2022.7 in c:\\users\\benoi\\anaconda3\\envs\\test6\\lib\\site-packages (from pandas->bsuite==0.3.5) (2025.2)\n",
      "Requirement already satisfied: mizani~=0.11.0 in c:\\users\\benoi\\anaconda3\\envs\\test6\\lib\\site-packages (from plotnine->bsuite==0.3.5) (0.11.4)\n",
      "Requirement already satisfied: statsmodels>=0.14.0 in c:\\users\\benoi\\anaconda3\\envs\\test6\\lib\\site-packages (from plotnine->bsuite==0.3.5) (0.14.4)\n",
      "Requirement already satisfied: patsy>=0.5.6 in c:\\users\\benoi\\anaconda3\\envs\\test6\\lib\\site-packages (from statsmodels>=0.14.0->plotnine->bsuite==0.3.5) (1.0.1)\n",
      "Requirement already satisfied: networkx>=3.0 in c:\\users\\benoi\\anaconda3\\envs\\test6\\lib\\site-packages (from scikit-image->bsuite==0.3.5) (3.5)\n",
      "Requirement already satisfied: imageio!=2.35.0,>=2.33 in c:\\users\\benoi\\anaconda3\\envs\\test6\\lib\\site-packages (from scikit-image->bsuite==0.3.5) (2.37.0)\n",
      "Requirement already satisfied: tifffile>=2022.8.12 in c:\\users\\benoi\\anaconda3\\envs\\test6\\lib\\site-packages (from scikit-image->bsuite==0.3.5) (2025.6.11)\n",
      "Requirement already satisfied: lazy-loader>=0.4 in c:\\users\\benoi\\anaconda3\\envs\\test6\\lib\\site-packages (from scikit-image->bsuite==0.3.5) (0.4)\n",
      "Building wheels for collected packages: bsuite\n",
      "  Building wheel for bsuite (setup.py): started\n",
      "  Building wheel for bsuite (setup.py): finished with status 'done'\n",
      "  Created wheel for bsuite: filename=bsuite-0.3.5-py3-none-any.whl size=251249 sha256=ebc3f71e4f75ec0f608d3e3d1fa6016e10603b8f14a252abf824ba9c4038d4c7\n",
      "  Stored in directory: C:\\Users\\benoi\\AppData\\Local\\Temp\\pip-ephem-wheel-cache-xj5azu7t\\wheels\\ed\\30\\0c\\ef48155ecf0e3736f9790f4751cfa9e1971cdfa4534eeb170a\n",
      "Successfully built bsuite\n",
      "Installing collected packages: bsuite\n",
      "  Attempting uninstall: bsuite\n",
      "    Found existing installation: bsuite 0.3.5\n",
      "    Uninstalling bsuite-0.3.5:\n",
      "      Successfully uninstalled bsuite-0.3.5\n",
      "Successfully installed bsuite-0.3.5\n"
     ]
    },
    {
     "name": "stderr",
     "output_type": "stream",
     "text": [
      "  DEPRECATION: Building 'bsuite' using the legacy setup.py bdist_wheel mechanism, which will be removed in a future version. pip 25.3 will enforce this behaviour change. A possible replacement is to use the standardized build interface by setting the `--use-pep517` option, (possibly combined with `--no-build-isolation`), or adding a `pyproject.toml` file to the source tree of 'bsuite'. Discussion can be found at https://github.com/pypa/pip/issues/6334\n"
     ]
    },
    {
     "name": "stdout",
     "output_type": "stream",
     "text": [
      "Requirement already satisfied: jax[cpu] in c:\\users\\benoi\\anaconda3\\envs\\test6\\lib\\site-packages (0.6.2)\n",
      "Collecting jaxlib<=0.6.2,>=0.6.2 (from jax[cpu])\n",
      "  Using cached jaxlib-0.6.2-cp311-cp311-win_amd64.whl.metadata (1.4 kB)\n",
      "Requirement already satisfied: ml_dtypes>=0.5.0 in c:\\users\\benoi\\anaconda3\\envs\\test6\\lib\\site-packages (from jax[cpu]) (0.5.1)\n",
      "Requirement already satisfied: numpy>=1.26 in c:\\users\\benoi\\anaconda3\\envs\\test6\\lib\\site-packages (from jax[cpu]) (1.26.4)\n",
      "Requirement already satisfied: opt_einsum in c:\\users\\benoi\\anaconda3\\envs\\test6\\lib\\site-packages (from jax[cpu]) (3.4.0)\n",
      "Requirement already satisfied: scipy>=1.12 in c:\\users\\benoi\\anaconda3\\envs\\test6\\lib\\site-packages (from jax[cpu]) (1.15.3)\n",
      "Using cached jaxlib-0.6.2-cp311-cp311-win_amd64.whl (57.9 MB)\n",
      "Installing collected packages: jaxlib\n",
      "  Attempting uninstall: jaxlib\n",
      "    Found existing installation: jaxlib 0.4.33\n",
      "    Uninstalling jaxlib-0.4.33:\n",
      "      Successfully uninstalled jaxlib-0.4.33\n",
      "Successfully installed jaxlib-0.6.2\n"
     ]
    }
   ],
   "source": [
    "!pip install -U jaxlib==0.4.33\n",
    "!git clone https://github.com/deepmind/bsuite.git\n",
    "!pip install bsuite/\n",
    "!pip install --upgrade \"jax[cpu]\""
   ]
  },
  {
   "cell_type": "markdown",
   "metadata": {
    "id": "r_pTfi5dSFX5"
   },
   "source": [
    "### Imports"
   ]
  },
  {
   "cell_type": "code",
   "execution_count": 3,
   "metadata": {
    "colab": {
     "base_uri": "https://localhost:8080/"
    },
    "id": "huyKrYpvSHSu",
    "outputId": "ebb630d3-4a66-47cb-8510-9749f6a240af"
   },
   "outputs": [],
   "source": [
    "from bsuite.environments import catch\n",
    "\n",
    "import jax\n",
    "import jax.numpy as jnp"
   ]
  },
  {
   "cell_type": "markdown",
   "metadata": {
    "id": "M6kEki4XHbPy"
   },
   "source": [
    "### Plotting"
   ]
  },
  {
   "cell_type": "code",
   "execution_count": 4,
   "metadata": {
    "id": "EYdWwRrbHbcl"
   },
   "outputs": [],
   "source": [
    "def plot_learning_curve(list_of_episode_returns):\n",
    "  \"\"\"Plot the learning curve.\"\"\"\n",
    "  plt.figure(figsize=(7, 5))\n",
    "\n",
    "  def moving_average(x, w):\n",
    "    return np.convolve(x, np.ones(w), 'valid') / w\n",
    "\n",
    "  smoothed_returns = moving_average(list_of_episode_returns, 30)\n",
    "  plt.plot(smoothed_returns)\n",
    "\n",
    "  plt.xlabel('Average episode returns')\n",
    "  plt.xlabel('Number of episodes')\n",
    "\n",
    "  ax = plt.gca()\n",
    "  ax.spines['left'].set_visible(True)\n",
    "  ax.spines['bottom'].set_visible(True)\n",
    "  ax.spines['right'].set_visible(False)\n",
    "  ax.spines['top'].set_visible(False)\n",
    "  ax.xaxis.set_ticks_position('bottom')\n",
    "  ax.yaxis.set_ticks_position('left')"
   ]
  },
  {
   "cell_type": "markdown",
   "metadata": {
    "id": "Xtlrr5d2p7cS"
   },
   "source": [
    "### Neural networks\n",
    "\n",
    "You will use JAX to define a network parametrising:\n",
    "\n",
    "* The values of each state $v(s)$.\n",
    "* The action preferences in each state $\\{p_i(s)\\}_{i\\in\\{1, ..., |A|\\}}$ (you can think of and implement the preferences $\\mathbf{p}(s)$ as a vector output with $|A|$ elements).\n",
    "\n",
    "There are many neural network libraries available that can be used to create networks in jax.  But here we will keep things relatively simple and just define our own network.\n",
    "\n",
    "Specifically, we will define a `network` function returns a **scalar** value `v` and a **vector** of preferences `p`, which will define the policy of the agent.  This function will take as its inputs a dictionary `params` of parameters that we will update, which will contain all the parameters of the network.\n",
    "\n",
    "A lot of the boilerplate code has been written for you.  You will have to implement some functions as indicated in the questions below."
   ]
  },
  {
   "cell_type": "markdown",
   "metadata": {
    "id": "Gj1nsUYuOoe1"
   },
   "source": [
    "### Q1 [3 marks]\n",
    "\n",
    "Create the parameters and define the forward pass of the neural network. The `network` function must look as follows when we call it:\n",
    "`v, p = network(params, observation)`\n",
    "\n",
    "The network should be implemented as follows:\n",
    "* The inputs are a dictionary of parameters `params`, and a tensor (a `jnp.array`) called `observation`.\n",
    "* We reshape the observation into a flat vector `flat_observation`.\n",
    "* We compute a hidden representation\n",
    "`h = relu(flat_observation.dot(w) + b)`, where the weights and biases are given in the input dictionary as `w = params['w']` and `v = params['b']` (and analogously for all other parameters), and where `relu(x)` is a 'rectifier linear unit', which computes $\\max(x, 0)$ elementwise (you can use `jax.nn.relu(x)` to implement this, if you want).\n",
    "* We compute a vector of action preferences as a linear function of `h`, such that `p = h.dot(w_p) + b_p`.\n",
    "* Similarly, we compute a scalar state value `v` as a linear function of `h`.\n",
    "* Finally, we return the scalar value and vector preferences as a tuple.\n",
    "\n",
    "Further, make sure that:\n",
    "* The hidden representation should be a vector of 50 elements.\n",
    "* The action preferences should be a vector of 3 elements (one per each available action).\n",
    "* The value should be a scalar (not a vector with one element).\n",
    "* All parameters should be initialised randomly as follows:\n",
    "```\n",
    "rng_key, param_key = jax.random.split(rng_key)\n",
    "parameter = jax.random.truncated_normal(param_key, -1, 1, shape)\n",
    "```\n",
    "where `shape` is the relevant shape for this `parameter` (e.g., `parameter` is `w` or `b`, etc.).  The first line is important: it 'splits' the random key into a temporary random key `param_key` that should **only** be used for this parameter, and a new `rng_key` that can be split again later for the next parameters, etc.\n"
   ]
  },
  {
   "cell_type": "code",
   "execution_count": 5,
   "metadata": {
    "id": "dF-6IWP30nip"
   },
   "outputs": [],
   "source": [
    "def create_parameters(rng_key, observation):\n",
    "  # Returns a dictionary with the desired parameters for the network\n",
    "  params = {}\n",
    "  rng_key, param_key = jax.random.split(rng_key)\n",
    "  params['w'] = jax.random.truncated_normal(param_key, -1, 1, (jnp.size(observation), 50))\n",
    "\n",
    "  rng_key, param_key = jax.random.split(rng_key)\n",
    "  params['b'] = jax.random.truncated_normal(param_key, -1, 1, (50,))\n",
    "\n",
    "  rng_key, param_key = jax.random.split(rng_key)\n",
    "  params['w_p'] = jax.random.truncated_normal(param_key, -1, 1, (50, 3))\n",
    "\n",
    "  rng_key, param_key = jax.random.split(rng_key)\n",
    "  params['b_p'] = jax.random.truncated_normal(param_key, -1, 1, (3,))\n",
    "\n",
    "  params['w_v'] = jax.random.truncated_normal(param_key, -1, 1, (50, 1))\n",
    "  rng_key, param_key = jax.random.split(rng_key)\n",
    "\n",
    "  params['b_v'] = jax.random.truncated_normal(param_key, -1, 1, (1,))\n",
    "\n",
    "  return params\n"
   ]
  },
  {
   "cell_type": "code",
   "execution_count": 6,
   "metadata": {
    "id": "c0szmBxsgylz"
   },
   "outputs": [],
   "source": [
    "def network(params, observation):\n",
    "  # Implement forward pass here\n",
    "\n",
    "  flat_observation = jnp.reshape(observation, (-1,))\n",
    "  h = jax.nn.relu(jnp.dot(flat_observation, params['w']) + params['b'])\n",
    "  p = jnp.dot(h, params['w_p']) + params['b_p']\n",
    "  v = (jnp.dot(h, params['w_v']) + params['b_v']).squeeze()\n",
    "  return v, p"
   ]
  },
  {
   "cell_type": "markdown",
   "metadata": {
    "id": "9ImJUgzFosvD"
   },
   "source": [
    "### Choosing actions\n",
    "\n",
    "A critical component of an actor-critic agent is a (stochastic) policy, mapping `observations` to `actions`.\n",
    "\n",
    "In deep RL, this mapping is conventionally parametrised by a deep neural network."
   ]
  },
  {
   "cell_type": "markdown",
   "metadata": {
    "id": "1MVXNWwlYW24"
   },
   "source": [
    "Here we provide a softmax policy parametrised by the neural network above (i.e., using the `network` function). The function has signature `action = softmax_policy(parameters, key, obs)`, taking the current network parameters `parameters`, a JAX random `key` and the current `observation`.\n",
    "\n",
    "### Softmax definition"
   ]
  },
  {
   "cell_type": "code",
   "execution_count": 7,
   "metadata": {
    "id": "qSOO10b20yD5"
   },
   "outputs": [],
   "source": [
    "#DO NOT MODIFY\n",
    "# Functions to perform random sampling in JAX (e.g. those in `jax.random`) take\n",
    "# a random key as input, and they are deterministic function of such a key. In\n",
    "# general, in a JAX program you need to use the `jax.random.split` function to\n",
    "# generate new random keys before every new sampling. The run loop that runs the\n",
    "# experiment later on will split and provides the keys for the function defined\n",
    "# here.\n",
    "\n",
    "# Note that we 'jit' the function.  This means the function will be compiled,\n",
    "# which will make it run faster. This does also suppress print statements, so if\n",
    "# you are debugging and want to print please comment out the `@jax.jit` line,\n",
    "# but don't forget to put it back before running the experiment below, and\n",
    "# especially before submitting your assignment.\n",
    "\n",
    "@jax.jit\n",
    "def softmax_policy(parameters, key, obs):\n",
    "  \"\"\"Sample action from a softmax policy.\"\"\"\n",
    "  _, p = network(parameters, obs)\n",
    "  return jax.random.categorical(key, p)"
   ]
  },
  {
   "cell_type": "markdown",
   "metadata": {
    "id": "iMYcb7Y9krnT"
   },
   "source": [
    "### Learning values and policies\n",
    "\n",
    "An actor-critic agent requires to update the parameters of the network so as to simultaneously improve the value predictions and the policy.\n",
    "\n",
    "In the next section you will define the gradient updates for each of these two components."
   ]
  },
  {
   "cell_type": "markdown",
   "metadata": {
    "id": "GsIlpmNEk5fv"
   },
   "source": [
    "### Q3 [4 marks]\n",
    "\n",
    "Implement a function to compute a stochastic estimate of the policy gradient from a 1 step transition in the environment.\n",
    "\n",
    "* You will use $R_{t+1} + \\gamma v(S_{t+1})$ as an estimate of $q_{\\pi}(S_t, A_t)$\n",
    "* You will use $v(S_{t})$ as a baseline to reduce the variance of the updates.\n",
    "\n",
    "In the code we actually use names `obs_tm1`, `a_tm1` (where `tm1` stands for '$t$ minus one') for the observation and action at time $t-1$, and `r_t`, `discount_t`, `obs_t` for the reward, discount, and observation at time $t$. So the code is offset a single time step in terms of naming as compared to the typical mathematical formulations.  This is just a naming convention, and should not impact the algorithm.\n",
    "\n",
    "The function below must therefore have signature `grads = policy_gradient(parameters, obs_tm1, a_tm1, r_t, discount_t, obs_t)`.\n",
    "* Where the inputs are:\n",
    "  * `parameters`: the parameters of the network,\n",
    "  * an observation `obs_tm1`\n",
    "  * the action `a_tm1` selected after observing `obs_tm1`,\n",
    "  * the resulting reward `r_t` and discount `discount_t` and observation `obs_t`, as obsesrved after taking action `a_tm1`.\n",
    "\n",
    "This function should return a stochastic estimate of the policy gradient, where `grads` has the same structure as `parameters` and contains an estimate of the gradient of the expected episodic return wrt to each parameter.\n",
    "\n",
    "The policy-gradient estimate should use bootstrapping, using the value estimates that can be gotten using the saame `parameters` as used for the policy.  So the output of this function can be used in a one-step actor-critic update."
   ]
  },
  {
   "cell_type": "markdown",
   "metadata": {
    "id": "02RJAKiX85Wx"
   },
   "source": [
    "### Jax hint:\n",
    "Note that you can use `jax.grad(f)` to get the gradient of any (pure) jax function with a scalar output.  For instance, consider:\n",
    "\n",
    "        def f(w, x, y):\n",
    "          # w, x, and y are all vectors\n",
    "          return jnp.sum(w*x + y)\n",
    "\n",
    "        df = jax.grad(f)\n",
    "    \n",
    "then calling `df(w, x, y)` will give the gradient of the output of `f(w, x, y)` with respect to the first input argument --- here called `w`. You can use this new function `df` as just a normal function. For instance, it can be called from other functions, as usual.\n",
    "\n",
    "Run the cell below to see a concrete example in action.  Note that `df(w, x, y)` in the example below evaluates to the same values as `x`.  This is correct, because the gradient of `f` with respect to `w` is indeed `x`."
   ]
  },
  {
   "cell_type": "code",
   "execution_count": 8,
   "metadata": {
    "colab": {
     "base_uri": "https://localhost:8080/"
    },
    "id": "t1TjveqqGnNA",
    "outputId": "b8fd0dd1-f7cb-4adf-f2eb-188c1e05a870"
   },
   "outputs": [
    {
     "name": "stdout",
     "output_type": "stream",
     "text": [
      "f(w, x, y):  31.0\n",
      "df(w, x, y): [3. 5.]\n"
     ]
    }
   ],
   "source": [
    "def f(w, x, y):\n",
    "  return jnp.sum(w*x + y)\n",
    "\n",
    "df = jax.grad(f)\n",
    "\n",
    "w = jnp.array([1., 2.])\n",
    "x = jnp.array([3., 5.])\n",
    "y = jnp.array([7., 11.])\n",
    "\n",
    "print(f'f(w, x, y):  {f(w, x, y)}')\n",
    "print(f'df(w, x, y): {df(w, x, y)}')"
   ]
  },
  {
   "cell_type": "markdown",
   "metadata": {
    "id": "wngNEiwrQeF0"
   },
   "source": [
    "### Jax hint:\n",
    "You network will have a dictionary `params` as input.  Suppose you have a function that computes the output of a network, and then uses this to do some stuff, and you want the gradient of that new function.  That is, suppose your code looks something like this:\n",
    "\n",
    "        # Define network\n",
    "        def network(params, ...):\n",
    "          ...\n",
    "\n",
    "        # Define a new function\n",
    "        def function(params, x, y, z, ...):\n",
    "           ...\n",
    "           output = network(params, x)\n",
    "           ...\n",
    "           return ...(some function of output)...        \n",
    "\n",
    "Now,\n",
    "```\n",
    "grads = jax.grad(function)(params, x, y, z, ...)\n",
    "```\n",
    "will give the gradients of `function` with respect to the first input argument, `params`.  These gradients `grads` will have exactly the same shape as the input argment `params`.\n",
    "\n",
    "But note that we cannot do things like `params + grads`, because `params` and `grads` are both dictionaries, not just `jnp.array`s.  Instead, we could explicitly traverse the dictionary.  But it is perhaps even easier to use in-built tree utils in Jax.  Specifically, the util `jax.tree_util.tree_map(f, x, y)` applies function f to all the elements in `x` and `y`.\n",
    "\n",
    "For instance, to add the gradients to the parameters, we can use:\n",
    "```\n",
    "def add_gradient_to_weight(w, g, learning_rate=0.1):\n",
    "  return w + learning_rate * g\n",
    "new_params = jax.tree_map(add_gradient_to_weight, params, grads)\n",
    "```\n",
    "The above snippet would apply the function `add_gradient_to_weight` to the elements in `params` and `grads`, here adding each element in `grads` to each corresponding element in `weights` (in this case using the default learning rate `learning_rate=0.1`, as specified in the function definition).\n"
   ]
  },
  {
   "cell_type": "code",
   "execution_count": 9,
   "metadata": {
    "id": "AHLGjy8he6vh"
   },
   "outputs": [],
   "source": [
    "def policy_gradient(parameters, obs_tm1, a_tm1, r_t, discount_t, obs_t):\n",
    "\n",
    "  v_tm1, _ = network(parameters, obs_tm1)\n",
    "  v_t, _ = network(parameters, obs_t)\n",
    "  td_error = r_t + discount_t * v_t - v_tm1\n",
    "\n",
    "\n",
    "  def pol_grad(parameters=parameters):\n",
    "    _, a_t = network(parameters, observation=obs_tm1)\n",
    "    grad_log = jnp.log((jax.nn.softmax(a_t))[a_tm1])\n",
    "    return td_error*grad_log\n",
    "\n",
    "  return jax.grad(pol_grad)(parameters)"
   ]
  },
  {
   "cell_type": "markdown",
   "metadata": {
    "id": "5XgjefrBlIGN"
   },
   "source": [
    "### Q4 [4 marks]\n",
    "\n",
    "Implement a function to compute a TD(0) update for the parameters of the value function.\n",
    "\n",
    "It must have signature `td_update = value_update(parameters, obs_tm1, a_tm1, r_t, discount_t, obs_t)`.\n",
    "* Where the inputs are:\n",
    "  * the current parameters `parameters` of the network,\n",
    "  * an observation `obs_tm1`\n",
    "  * the action `a_tm1` selected after observing `obs_tm1`,\n",
    "  * the resulting reward `r_t` and environment discount `discount_t`\n",
    "  * and the following observation `obs_t`\n",
    "* Returns a stochastic TD(0) semi-gradient update: `td_update` has the same structure as `parameters`. This contains a stochastic estimate of the negative semi-gradient of the expected value prediction loss: a TD(0) update."
   ]
  },
  {
   "cell_type": "code",
   "execution_count": 10,
   "metadata": {
    "id": "CAONu72iTpzx"
   },
   "outputs": [],
   "source": [
    "def value_update(parameters, obs_tm1, a_tm1, r_t, discount_t, obs_t):\n",
    "\n",
    "  v_tm1, _ = network(parameters, obs_tm1)\n",
    "  v_t, _ = network(parameters, obs_t)\n",
    "  td_error = r_t + discount_t * v_t - v_tm1\n",
    "\n",
    "  def pol_grad(parameters=parameters):\n",
    "    v_t, _ = network(parameters, observation=obs_tm1)\n",
    "    return td_error*v_t\n",
    "\n",
    "  return jax.grad(pol_grad)(parameters)"
   ]
  },
  {
   "cell_type": "markdown",
   "metadata": {
    "id": "jAXgLZg8mfMd"
   },
   "source": [
    "### Updating shared parameters\n",
    "\n",
    "The policy gradient identifies the direction of change in the parameters that most steeply improve the policy.\n",
    "The value update identifies the direction of change in the parameters that improves the value predictions (according to TD).\n",
    "\n",
    "However, the value and policy share some of the parameters of the network.  How do we combine the two gradient updates?\n",
    "\n",
    "In this assignment, we simply sum the policy and value components.\n",
    "The function that combines the two gradients is implemented for you in the cell below.  Note the use of `jax.tree_map` to facilitate adding the structured parameters."
   ]
  },
  {
   "cell_type": "code",
   "execution_count": 11,
   "metadata": {
    "id": "uhKCLe8jjkdZ"
   },
   "outputs": [],
   "source": [
    "@jax.jit\n",
    "def compute_gradient(parameters, obs_tm1, a_tm1, r_t, discount_t, obs_t):\n",
    "  pgrads = policy_gradient(parameters, obs_tm1, a_tm1, r_t, discount_t, obs_t)\n",
    "  td_update = value_update(parameters, obs_tm1, a_tm1, r_t, discount_t, obs_t)\n",
    "  return jax.tree_util.tree_map(lambda pg, td: pg + td, pgrads, td_update)"
   ]
  },
  {
   "cell_type": "markdown",
   "metadata": {
    "id": "tYaVb6GcpCRe"
   },
   "source": [
    "### Optimisation\n",
    "\n",
    "In deep learning, gradient updates are typically rescaled and modifed to avoid taking too large a step on a single update (e.g., due to large variance), and to facilitate the optimisation process (it turns out raw stochatic gradients are often not the most effective for updating neural networks).\n",
    "\n",
    "For instance given a candidate gradient update $\\nabla$ we may update our parameters $\\theta$ by;\n",
    "$$\\Delta \\theta = \\theta + \\alpha * \\nabla\\,,$$\n",
    "where $\\alpha$ is a small number between 0 and 1 (e.g., $\\alpha=0.01$ or $\\alpha=0.001$), referred to as `step_size` or `learning_rate`\n",
    "\n",
    "The gradients with respect to each weight of a neural network may however have very different magnitudes. This can make it hard to set a suitable learning rate $\\alpha$.\n",
    "\n",
    "In deep learning, and deep RL, we typically use adaptive learning rates, for instance by rescaling each component of the gradient using statistics tracking the typical size of the updates to that weight. Then the entire update is rescaled using a global `learning_rate` $\\alpha$.\n"
   ]
  },
  {
   "cell_type": "markdown",
   "metadata": {
    "id": "hbFePWfApaMU"
   },
   "source": [
    "### Q5 [2 marks]\n",
    "\n",
    "A popular approach to adaptive gradient rescaling was introduced by the `Adam` algorithm.\n",
    "This algorithm implements the following procedure before applying each update:\n",
    "* Increase an update counter $k \\gets k+1$ (starting at k=0 before any updates),\n",
    "* Update the first moment of each gradient component $\\mu \\gets (1 - \\beta_1) g + \\beta_1 \\mu$ where $g$ is the latest stochastic gradient, where $\\beta_1$ is a parameter for the moving average.\n",
    "* Update the second moment of each gradient component $\\nu_i = (1 - \\beta_2) g_i ^ 2 + \\beta_2 \\nu_i $ where $g$ is the latest gradient update, where $\\beta_2$ is a parameter for the moving average.\n",
    "* Use the following update to update the weights:\n",
    "$$\\Delta w = \\alpha \\frac{\\mu / (1 - \\beta_1 ^ {k})}{\\epsilon + \\sqrt{\\nu / (1 - \\beta_1 ^ {k})}}$$\n",
    "* $\\alpha$ is a global `learning rate`\n",
    "* $\\beta_1$ and $\\beta_2$ define a soft horizon for the per-weight statistics.\n",
    "* $\\epsilon$ makes the rescaling more robust to numerical issues.\n",
    "\n",
    "(See [Kingma et al, 2014](https://arxiv.org/abs/1412.6980) for details, if you are interested.)\n",
    "\n",
    "In the next cell define a pair of functions (`opt_init`, and `opt_update` --- in each case `opt` is short for 'optimiser'), where:\n",
    "\n",
    "The `opt_init` function has signature `opt_state = opt_init(parameters)`.\n",
    "* Takes the network parameters as inputs\n",
    "* Initialises an `optimiser state` holding the per weight statistics.\n",
    "\n",
    "The `opt_update` function has signature `updates, opt_state = opt_update(grads, opt_state)`.\n",
    "* Takes a `gradient` and an `optimisers state`,\n",
    "* and returns the transformed gradient and the updated `optimiser state`.\n",
    "\n",
    "The optimiser state `opt_state` should contain:\n",
    "* The first-order momentum $\\mu$, as updated with a moving-average-parameter $\\beta_1$ which we call `b1` in the code.\n",
    "* The first-order momentum $\\nu$, as updated with a moving-average-parameter $\\beta_2$ which we call `b2` in the code.\n",
    "\n",
    "We will ignore the initial correction Adam typically uses, and will instead use the simpler transformation:\n",
    "$$\\Delta w = \\alpha \\frac{\\mu}{\\epsilon + \\sqrt{\\nu}}$$\n",
    "\n",
    "Set the algorithm's hyper-parameters to $\\alpha=0.003$, $\\beta_1=.9$ and $\\beta_2=.999$, $\\epsilon=10^{-4}$.  You are allowed to hard-code these in, or make them configurable (e.g., pass them as additional arguments to `opt_update`, which is better if you want to play around, of course).  Set the initial moving averages to zero for $\\mu$ and one for $\\nu$.  E.g.,\n",
    "\n",
    "        mu = jax.tree_map(jnp.zeros_like, parameters)"
   ]
  },
  {
   "cell_type": "code",
   "execution_count": 12,
   "metadata": {
    "id": "017XRA_BpbZx"
   },
   "outputs": [],
   "source": [
    "def opt_init(parameters):\n",
    "  opt_state = {}\n",
    "  opt_state['mu'] = jax.tree_util.tree_map(jnp.zeros_like, parameters)\n",
    "  opt_state['nu'] = jax.tree_util.tree_map(jnp.zeros_like, parameters)\n",
    "  opt_state['beta_1'] = 0.9\n",
    "  opt_state['beta_2'] = 0.999\n",
    "  opt_state['epsilon'] = 0.0001\n",
    "  opt_state['alpha'] = 0.003\n",
    "  return opt_state\n",
    "\n",
    "def opt_update(grads, opt_state):\n",
    "  opt_state['mu'] = jax.tree_util.tree_map(\n",
    "      lambda m, g: opt_state['beta_1'] * m + (1 - opt_state['beta_1']) * g,\n",
    "      opt_state['mu'], grads\n",
    "  )\n",
    "  opt_state['nu'] = jax.tree_util.tree_map(\n",
    "      lambda n, g: opt_state['beta_2'] * n + (1 - opt_state['beta_2']) * g**2,\n",
    "      opt_state['nu'], grads\n",
    "  )\n",
    "\n",
    "  updates = jax.tree_util.tree_map(\n",
    "      lambda m, n: opt_state['alpha'] * m / (opt_state['epsilon'] + jnp.sqrt(n)),\n",
    "      opt_state['mu'], opt_state['nu']\n",
    "  )\n",
    "\n",
    "  return updates, opt_state"
   ]
  },
  {
   "cell_type": "markdown",
   "metadata": {
    "id": "DczWvZfNSnTj"
   },
   "source": [
    "### Run experiments\n",
    "\n",
    "Run the cell below to show the performance of the resulting agent.\n",
    "\n",
    "You may also use this section for debugging your implementations.\n",
    "\n",
    "Note however, that most functions are `jitted` for performance,\n",
    "* either using the `@jax.jit` decorator in the function definition\n",
    "* or calling explicitly `fn = jax.jit(fn)`\n",
    "\n",
    "When jitting, the code is compiled on the first time the function is executed\n",
    "* and execution is much faster on subsequent calls.\n",
    "* a notable side effect is that print statements in a jitted function will only execute on the first execution of the function.\n",
    "* to drop into a debugger or print on each function execution you will have to disable the `@jax.jit` annotations and jax.jit calls."
   ]
  },
  {
   "cell_type": "code",
   "execution_count": 13,
   "metadata": {
    "colab": {
     "base_uri": "https://localhost:8080/",
     "height": 517
    },
    "id": "Fz837XTkLxE8",
    "outputId": "7537340a-698b-4167-a8d8-706e951c51ad"
   },
   "outputs": [
    {
     "name": "stdout",
     "output_type": "stream",
     "text": [
      "Training agent for 1500 episodes...\n"
     ]
    },
    {
     "data": {
      "image/png": "[encoded data removed]",
      "text/plain": [
       "<Figure size 700x500 with 1 Axes>"
      ]
     },
     "metadata": {},
     "output_type": "display_data"
    }
   ],
   "source": [
    "# DO NOT CHANGE THIS CELL\n",
    "\n",
    "# Experiment configs.\n",
    "train_episodes = 1500\n",
    "discount_factor = .99\n",
    "\n",
    "# Create environment.\n",
    "env = catch.Catch(seed=42)\n",
    "\n",
    "# Build and initialize network.\n",
    "rng = jax.random.PRNGKey(44)\n",
    "rng, init_rng = jax.random.split(rng)\n",
    "sample_input = env.observation_spec().generate_value()\n",
    "parameters = create_parameters(init_rng, sample_input)\n",
    "\n",
    "# Initialize optimizer state.\n",
    "opt_state = opt_init(parameters)\n",
    "\n",
    "# Apply updates\n",
    "def apply_updates(params, updates):\n",
    "  return jax.tree_util.tree_map(lambda p, u: p + u, params, updates)\n",
    "\n",
    "# Jit.\n",
    "opt_update = jax.jit(opt_update)\n",
    "apply_updates = jax.jit(apply_updates)\n",
    "\n",
    "print(f\"Training agent for {train_episodes} episodes...\")\n",
    "all_episode_returns = []\n",
    "\n",
    "for _ in range(train_episodes):\n",
    "  episode_return = 0.\n",
    "  timestep = env.reset()\n",
    "  obs_tm1 = timestep.observation\n",
    "\n",
    "  # Sample initial action.\n",
    "  rng, policy_rng = jax.random.split(rng)\n",
    "  a_tm1 = softmax_policy(parameters, policy_rng, obs_tm1)\n",
    "\n",
    "  while not timestep.last():\n",
    "    # Step environment.\n",
    "    new_timestep = env.step(int(a_tm1))\n",
    "\n",
    "    # Sample action from agent policy.\n",
    "    rng, policy_rng = jax.random.split(rng)\n",
    "    a_t = softmax_policy(parameters, policy_rng, new_timestep.observation)\n",
    "\n",
    "    # Update params.\n",
    "    r_t = new_timestep.reward\n",
    "    discount_t = discount_factor * new_timestep.discount\n",
    "    dJ_dtheta = compute_gradient(\n",
    "        parameters, obs_tm1, a_tm1, r_t, discount_t,\n",
    "        new_timestep.observation)\n",
    "    updates, opt_state = opt_update(dJ_dtheta, opt_state)\n",
    "    parameters = apply_updates(parameters, updates)\n",
    "\n",
    "    # Within episode book-keeping.\n",
    "    episode_return += new_timestep.reward\n",
    "    timestep = new_timestep\n",
    "    obs_tm1 = new_timestep.observation\n",
    "    a_tm1 = a_t\n",
    "\n",
    "  # Experiment results tracking.\n",
    "  all_episode_returns.append(episode_return)\n",
    "\n",
    "# Plot learning curve.\n",
    "plot_learning_curve(all_episode_returns)"
   ]
  },
  {
   "cell_type": "code",
   "execution_count": 14,
   "metadata": {
    "colab": {
     "base_uri": "https://localhost:8080/",
     "height": 992
    },
    "id": "BIAmukxFE2gd",
    "outputId": "a3ea13ef-e57d-4f05-f661-362af5cd1a41"
   },
   "outputs": [
    {
     "name": "stdout",
     "output_type": "stream",
     "text": [
      "Training agent with adam for 50000 episodes...\n"
     ]
    },
    {
     "data": {
      "image/png": "[encoded data removed]",
      "text/plain": [
       "<Figure size 700x500 with 1 Axes>"
      ]
     },
     "metadata": {},
     "output_type": "display_data"
    },
    {
     "name": "stdout",
     "output_type": "stream",
     "text": [
      "Training agent with sgd for 50000 episodes...\n"
     ]
    },
    {
     "data": {
      "image/png": "[encoded data removed]",
      "text/plain": [
       "<Figure size 700x500 with 1 Axes>"
      ]
     },
     "metadata": {},
     "output_type": "display_data"
    }
   ],
   "source": [
    "# COMPARISON SGD VS ADAM\n",
    "\n",
    "# Experiment configs.\n",
    "train_episodes = 50000\n",
    "discount_factor = .99\n",
    "\n",
    "# Create environment.\n",
    "env = catch.Catch(seed=42)\n",
    "\n",
    "# Build and initialize network.\n",
    "rng = jax.random.PRNGKey(44)\n",
    "rng, init_rng = jax.random.split(rng)\n",
    "sample_input = env.observation_spec().generate_value()\n",
    "\n",
    "# Apply updates\n",
    "def apply_updates(params, updates):\n",
    "  return jax.tree_util.tree_map(lambda p, u: p + u, params, updates)\n",
    "\n",
    "# Jit.\n",
    "opt_update = jax.jit(opt_update)  # Assuming opt_update is defined elsewhere\n",
    "apply_updates = jax.jit(apply_updates)\n",
    "\n",
    "\n",
    "def sgd_update(grads, learning_rate=1e-3):\n",
    "  \"\"\"Applies SGD update.\"\"\"\n",
    "  updates = jax.tree_util.tree_map(lambda g: learning_rate * g, grads)\n",
    "  return updates, {}  # SGD has no state to maintain\n",
    "\n",
    "for optimizer in ['adam', 'sgd']:\n",
    "  print(f\"Training agent with {optimizer} for {train_episodes} episodes...\")\n",
    "  all_episode_returns = []\n",
    "\n",
    "  # Reset parameters and optimizer state\n",
    "  parameters = create_parameters(init_rng, sample_input)  # Assuming create_parameters is defined elsewhere\n",
    "\n",
    "  if optimizer == 'adam':\n",
    "    opt_state = opt_init(parameters)  # Assuming opt_init is defined elsewhere\n",
    "  else:\n",
    "    opt_state = {}  # SGD has no state\n",
    "\n",
    "  for _ in range(train_episodes):\n",
    "    episode_return = 0.\n",
    "    timestep = env.reset()\n",
    "    obs_tm1 = timestep.observation\n",
    "\n",
    "    # Sample initial action.\n",
    "    rng, policy_rng = jax.random.split(rng)\n",
    "    a_tm1 = softmax_policy(parameters, policy_rng, obs_tm1)  # Assuming softmax_policy is defined elsewhere\n",
    "\n",
    "    while not timestep.last():\n",
    "      # Step environment.\n",
    "      new_timestep = env.step(int(a_tm1))\n",
    "\n",
    "      # Sample action from agent policy.\n",
    "      rng, policy_rng = jax.random.split(rng)\n",
    "      a_t = softmax_policy(parameters, policy_rng, new_timestep.observation)\n",
    "\n",
    "      # Update params.\n",
    "      r_t = new_timestep.reward\n",
    "      discount_t = discount_factor * new_timestep.discount\n",
    "      dJ_dtheta = compute_gradient(  # Assuming compute_gradient is defined elsewhere\n",
    "          parameters, obs_tm1, a_tm1, r_t, discount_t,\n",
    "          new_timestep.observation)\n",
    "\n",
    "      # Apply updates based on the chosen optimizer\n",
    "      if optimizer == 'adam':\n",
    "        updates, opt_state = opt_update(dJ_dtheta, opt_state)\n",
    "      else:\n",
    "        updates, opt_state = sgd_update(dJ_dtheta)\n",
    "\n",
    "      parameters = apply_updates(parameters, updates)\n",
    "\n",
    "      # Within episode book-keeping.\n",
    "      episode_return += new_timestep.reward\n",
    "      timestep = new_timestep\n",
    "      obs_tm1 = new_timestep.observation\n",
    "      a_tm1 = a_t\n",
    "\n",
    "    # Experiment results tracking.\n",
    "    all_episode_returns.append(episode_return)\n",
    "\n",
    "  # Plot learning curve for the current optimizer\n",
    "  plot_learning_curve(all_episode_returns)  # Assuming plot_learning_curve is defined elsewhere\n",
    "  plt.title(f\"Learning Curve with {optimizer}\")\n",
    "  plt.show()"
   ]
  },
  {
   "cell_type": "markdown",
   "metadata": {
    "id": "9dowFJ_l-32A"
   },
   "source": [
    "# B) An alternative update\n",
    "\n",
    "You are going to implement a different kind of agent.\n",
    "\n",
    "Like an actor-critic, it learns online from a single stream of experience, updating the parametes after each transition in the environment."
   ]
  },
  {
   "cell_type": "markdown",
   "metadata": {
    "id": "aQD0Qw8-_QJy"
   },
   "source": [
    "### Neural networks\n",
    "\n",
    "\n",
    "The agent will reuse the same neural network we defined for the actor-critic:\n",
    "* the scalar output will be trained via TD to estimate state values\n",
    "* the vector preferences `p` will be updated according to a different rule."
   ]
  },
  {
   "cell_type": "markdown",
   "metadata": {
    "id": "I6j0AIF8GhdR"
   },
   "source": [
    "### Choosing actions\n",
    "\n",
    "As in actor-critics, the (stochastic) mapping from `observations` to `actions` depends on the vector of preferences `p` from the network."
   ]
  },
  {
   "cell_type": "markdown",
   "metadata": {
    "id": "jE00LhDL_nbC"
   },
   "source": [
    "### Q6 [2 marks]\n",
    "\n",
    "The new agent's policy will have the signature `action = epsilon_greedy_policy(parameters, key, observation)`,\n",
    "* Take as inputs the current network parameters `parameters`, a JAX random `key` and the current `observation`\n",
    "* Return with probability `0.9` the greedy `action` with respect to the preferences `p`, ties must be broken at random.\n",
    "* Return an action uniformly at random with probability `0.1`"
   ]
  },
  {
   "cell_type": "code",
   "execution_count": 15,
   "metadata": {
    "id": "8IwTDROL_Lx5"
   },
   "outputs": [],
   "source": [
    "@jax.jit\n",
    "def epsilon_greedy_policy(parameters, key, observation):\n",
    "  \"\"\"Sample action from an epsilon-greedy policy.\"\"\"\n",
    "\n",
    "  key, epsilon_key, action_key = jax.random.split(key, 3)\n",
    "\n",
    "  random_action = jax.random.randint(action_key, shape=(), minval=0, maxval=3)\n",
    "\n",
    "  _, p = network(parameters, observation)\n",
    "  greedy_action = jnp.argmax(p)\n",
    "\n",
    "  return jax.lax.cond(jax.random.uniform(epsilon_key) < 0.9,lambda: greedy_action,lambda: random_action)"
   ]
  },
  {
   "cell_type": "markdown",
   "metadata": {
    "id": "l1zQiRX5BfeA"
   },
   "source": [
    "### Q7 [3 marks]\n",
    "\n",
    "The parameters $w_p$ of the preferences $p_{w_p}(s, a)$ will be update according to the following gradient-based update:\n",
    "\n",
    "$$\\Delta w_p = \\alpha (R_{t+1} + \\gamma v(S_{t+1}) - p(S_{t}, A_t)) \\nabla p(S_t, A_t))$$\n",
    "\n",
    "where `v` is the state value trained by TD as in the actor critic.\n",
    "\n",
    "You musy implement this in the function `preference_gradient`, with the same signature as `policy_gradient`"
   ]
  },
  {
   "cell_type": "code",
   "execution_count": 20,
   "metadata": {
    "id": "6fQhAWXqLNt-"
   },
   "outputs": [],
   "source": [
    "def preference_gradient(parameters, obs_tm1, a_tm1, r_t, discount_t, obs_t):\n",
    "\n",
    "  _, p_tm1 = network(parameters, obs_tm1)\n",
    "  v_t, _ = network(parameters, obs_t)\n",
    "  delta = r_t + discount_t * v_t - p_tm1[a_tm1]\n",
    "\n",
    "  def pol_grad(parameters=parameters):\n",
    "    _, p_tm1 = network(parameters, observation=obs_tm1)\n",
    "    return p_tm1[a_tm1]\n",
    "\n",
    "  return jax.tree_util.tree_map(lambda gradients: delta*gradients, jax.grad(pol_grad)(parameters))"
   ]
  },
  {
   "cell_type": "markdown",
   "metadata": {
    "id": "hz4RFKnVF8E8"
   },
   "source": [
    "### Updating shared parameters\n",
    "\n",
    "Just like in the actor critic the overall update to the parameters is a combination of two quantities:\n",
    "* the new update we defined for the vector of preferences\n",
    "* the same TD update to the scalar output that we used in the actor critic"
   ]
  },
  {
   "cell_type": "code",
   "execution_count": 21,
   "metadata": {
    "id": "QnghCzKhF-gI"
   },
   "outputs": [],
   "source": [
    "@jax.jit\n",
    "def compute_gradient(parameters, obs_tm1, a_tm1, r_t, discount_t, obs_t):\n",
    "  pgrads = preference_gradient(parameters, obs_tm1, a_tm1, r_t, discount_t, obs_t)\n",
    "  vgrads = value_update(parameters, obs_tm1, a_tm1, r_t, discount_t, obs_t)\n",
    "  return jax.tree_util.tree_map(lambda pg, td: pg + td, pgrads, vgrads)"
   ]
  },
  {
   "cell_type": "markdown",
   "metadata": {
    "id": "44QBKEF4HFK8"
   },
   "source": [
    "### Optimisation\n",
    "\n",
    "The gradient updates are rescaled using the same optimiser used for the actor-critic."
   ]
  },
  {
   "cell_type": "markdown",
   "metadata": {
    "id": "dbdHQo23FJit"
   },
   "source": [
    "### Run experiments\n",
    "\n",
    "Run the cell below to show the performance of the new agent."
   ]
  },
  {
   "cell_type": "code",
   "execution_count": 22,
   "metadata": {
    "colab": {
     "base_uri": "https://localhost:8080/",
     "height": 487
    },
    "id": "ept5NG1oFLnu",
    "outputId": "41a0e990-97b7-4640-9297-f10ec5e984d0"
   },
   "outputs": [
    {
     "name": "stdout",
     "output_type": "stream",
     "text": [
      "Training agent for 1500 episodes...\n"
     ]
    },
    {
     "data": {
      "image/png": "[encoded data removed]",
      "text/plain": [
       "<Figure size 700x500 with 1 Axes>"
      ]
     },
     "metadata": {},
     "output_type": "display_data"
    }
   ],
   "source": [
    "# DO NOT CHANGE THIS CELL\n",
    "\n",
    "# Experiment configs.\n",
    "train_episodes = 1500\n",
    "discount_factor = .99\n",
    "\n",
    "# Create environment.\n",
    "env = catch.Catch(seed=42)\n",
    "\n",
    "# Build and initialize network.\n",
    "rng = jax.random.PRNGKey(44)\n",
    "rng, init_rng = jax.random.split(rng)\n",
    "sample_input = env.observation_spec().generate_value()\n",
    "parameters = create_parameters(init_rng, sample_input)\n",
    "\n",
    "# Initialize optimizer state.\n",
    "opt_state = opt_init(parameters)\n",
    "\n",
    "# Apply updates\n",
    "def apply_updates(params, updates):\n",
    "  return jax.tree_util.tree_map(lambda p, u: p + u, params, updates)\n",
    "\n",
    "# Jit.\n",
    "opt_update = jax.jit(opt_update)\n",
    "apply_updates = jax.jit(apply_updates)\n",
    "\n",
    "print(f\"Training agent for {train_episodes} episodes...\")\n",
    "all_episode_returns = []\n",
    "\n",
    "for _ in range(train_episodes):\n",
    "  episode_return = 0.\n",
    "  timestep = env.reset()\n",
    "  obs_tm1 = timestep.observation\n",
    "\n",
    "  # Sample initial action.\n",
    "  rng, policy_rng = jax.random.split(rng)\n",
    "  a_tm1 = epsilon_greedy_policy(parameters, policy_rng, obs_tm1)\n",
    "\n",
    "  while not timestep.last():\n",
    "    # Step environment.\n",
    "    new_timestep = env.step(int(a_tm1))\n",
    "\n",
    "    # Sample action from agent policy.\n",
    "    rng, policy_rng = jax.random.split(rng)\n",
    "    a_t = epsilon_greedy_policy(parameters, policy_rng, new_timestep.observation)\n",
    "\n",
    "    # Update params.\n",
    "    r_t = new_timestep.reward\n",
    "    discount_t = discount_factor * new_timestep.discount\n",
    "\n",
    "    dJ_dtheta = compute_gradient(\n",
    "        parameters, obs_tm1, a_tm1, r_t, discount_t,\n",
    "        new_timestep.observation)\n",
    "    updates, opt_state = opt_update(dJ_dtheta, opt_state)\n",
    "    parameters = apply_updates(parameters, updates)\n",
    "\n",
    "    # Within episode book-keeping.\n",
    "    episode_return += new_timestep.reward\n",
    "    timestep = new_timestep\n",
    "    obs_tm1 = new_timestep.observation\n",
    "    a_tm1 = a_t\n",
    "\n",
    "  # Experiment results tracking.\n",
    "  all_episode_returns.append(episode_return)\n",
    "\n",
    "# Plot learning curve.\n",
    "plot_learning_curve(all_episode_returns)"
   ]
  },
  {
   "cell_type": "markdown",
   "metadata": {
    "id": "g80tBzfsBgya"
   },
   "source": [
    "### Q8 [8 marks]\n",
    "\n",
    "[2pts]: Run the optimisation in Part A) with both normal SGD (with a constant learning rate = 1e-3) and the ADAM optimisation you implemented. What can you observe? Explain any difference you might see. Please include both plots your answer (one for SGD and the other one for ADAM).\n",
    "\n",
    "We notice that when we use ADAM, the agent converges after apprximately between 2000 and 5000 episodes, whereas when we use SGD, the convergence is much slower as the agent converges after approximately 30000 episodes. In addition, we notice that the equilibrum is much more instable for SGD than for ADAM. This is explained by the fact that the ADAM optimizer is adaptative :\n",
    "- The first moment ensures that the gradient is sufficiently large/small to be efficient : if the previous gradients were large/small, the new gradient will be even larger/smaller ensuring an efficient learning and a fast convergence.\n",
    "- The second moment ensures that if the previous gradients are stable/unstable, the learing rate is kept as before/decreased to ensure that the our gradient is stable.\n",
    "\n",
    "Therefore, ADAM is made to be fast and stable, which explains why it converges faster and in a more stable way than SGD.\n",
    "\n",
    "You can see the plots in one of the previous code cells, just at the end of part A.\n",
    "\n",
    "\n",
    "[2pts]: What is the best asymptotic average return that can be achieved by the actor-critic agent described in `Part A)`? Can this be further improved, and if so: how? Explain your answer.\n",
    "\n",
    "The best asymptotic average return that can be optained by the actor critic agent of part A is the value of the best action to pick at every step. This action gives a reward of 1 when it's selected : therefore, the best asymptotic average return that this actor critic agent can achieve is 1.\n",
    "\n",
    "The agent cannot have a better return than 1 asymptotically, and the agent will continue to select the wrong action from time to time which cannot be avoided. Therefore, the only part in which we have an impact is the learning speed of the agent : we could for instance use the more complex verison of the ADAM optimizer instead of usning the simple one. This improvement would lead to a faster convergence.\n",
    "\n",
    "[2pts] What is the best asymptotic average return that can be achieved by the second agent described in `Part B)`? Can this be further improved, and if so: how? Explain your answer.\n",
    "\n",
    "In part B, the agent now acts greedily. It means that even after the agent has learnt the best action to do, it wil still pick a random action one time out of ten. There are three actions possible for the agent : moove right, moove left and stand stil. At every step, only one of them will give a reward of 1 (catches teh ball), and the two others will give a reward of -1 (the ball falls). Therefore, the asymptotic average return AAR is given by :\n",
    "\n",
    "AAR = (1-ϵ) * $R_{BA}$ + $\\frac{ϵ}{3}$ * $R_{BA}$ + $\\frac{2*ϵ}{3}$ * $R_{NBA}$\n",
    "\n",
    "with :\n",
    "- $R_{BA}$ the reward obtained for the best action and catching the ball : 1\n",
    "- $R_{NBA}$ the reward obtained for not selecting the best action and letting the ball fall : -1.\n",
    "\n",
    "AAR = 0.9 * 1 + $\\frac{0.1}{3}$ * 1 + $\\frac{2*0.1}{3}$ * (-1) = 0.866\n",
    "\n",
    "The value of 0.866 is coherent with what we see on the graph if we perform 7000 episodes instead of 1500.\n",
    "\n",
    "To improve this result, we could implement an adapatative and decreasing ϵ instead of a fixed one ($\\frac{1}{n}$ with n the current number of episode played for instance). This approach would allow the agent to learn from exploration at the beginning of the training and to find the best action to do : n is not too large at the beginning of the training so $\\frac{1}{n}$ >>0 and  the agent will explore. After a certain number of episodes, the agent has learnt the best action and doesn't need explore anymore : as n becomes very large and $\\frac{1}{n}$ becomes very small. Asymptotically, this adaptative ϵ would allow to have an average return of 1.\n",
    "\n",
    "[2pts] What quantity do the preferences `p` estimate in the second agent described in Part B?\n",
    "\n",
    "The preferences p in the second agent estimate the expected return from taking a specific action in a given state.  They are not directly estimating state values like v, but rather action values within a state, although these are learned differently than in a standard Q-learning approach.\n"
   ]
  },
  {
   "cell_type": "code",
   "execution_count": null,
   "metadata": {},
   "outputs": [],
   "source": []
  }
 ],
 "metadata": {
  "colab": {
   "provenance": [],
   "toc_visible": true
  },
  "kernelspec": {
   "display_name": "Python 3 (ipykernel)",
   "language": "python",
   "name": "python3"
  },
  "language_info": {
   "codemirror_mode": {
    "name": "ipython",
    "version": 3
   },
   "file_extension": ".py",
   "mimetype": "text/x-python",
   "name": "python",
   "nbconvert_exporter": "python",
   "pygments_lexer": "ipython3",
   "version": "3.11.13"
  }
 },
 "nbformat": 4,
 "nbformat_minor": 4
}
